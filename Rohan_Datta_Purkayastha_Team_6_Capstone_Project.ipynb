{
  "nbformat": 4,
  "nbformat_minor": 0,
  "metadata": {
    "kernelspec": {
      "display_name": "Python 3",
      "language": "python",
      "name": "python3"
    },
    "language_info": {
      "codemirror_mode": {
        "name": "ipython",
        "version": 3
      },
      "file_extension": ".py",
      "mimetype": "text/x-python",
      "name": "python",
      "nbconvert_exporter": "python",
      "pygments_lexer": "ipython3",
      "version": "3.6.6"
    },
    "colab": {
      "name": "Rohan Datta Purkayastha Team 6 - Capstone Project.ipynb",
      "provenance": [],
      "include_colab_link": true
    }
  },
  "cells": [
    {
      "cell_type": "markdown",
      "metadata": {
        "id": "view-in-github",
        "colab_type": "text"
      },
      "source": [
        "<a href=\"https://colab.research.google.com/github/rohan-dot/Analysing-Hotel-Booking-Dataset/blob/main/Rohan_Datta_Purkayastha_Team_6_Capstone_Project.ipynb\" target=\"_parent\"><img src=\"https://colab.research.google.com/assets/colab-badge.svg\" alt=\"Open In Colab\"/></a>"
      ]
    },
    {
      "cell_type": "markdown",
      "metadata": {
        "id": "Y06xIdG26kRF"
      },
      "source": [
        "## <b> Have you ever wondered when the best time of year to book a hotel room is? Or the optimal length of stay in order to get the best daily rate? What if you wanted to predict whether or not a hotel was likely to receive a disproportionately high number of special requests? This hotel booking dataset can help you explore those questions!\n",
        "\n",
        "## <b>This data set contains booking information for a city hotel and a resort hotel, and includes information such as when the booking was made, length of stay, the number of adults, children, and/or babies, and the number of available parking spaces, among other things. All personally identifying information has been removed from the data. </b>\n",
        "\n",
        "## <b> Explore and analyze the data to discover important factors that govern the bookings. </b>"
      ]
    },
    {
      "cell_type": "markdown",
      "metadata": {
        "id": "S7UNhJa7svpz"
      },
      "source": [
        "check for the top 3 month which has least traffic?"
      ]
    },
    {
      "cell_type": "markdown",
      "metadata": {
        "id": "E3CR6mbr0jmS"
      },
      "source": [
        "# 1. What is the percentage of booking for each year?\n",
        "# 2. Correlation between no. of children and special request\n",
        "# 3. From which country most guest are coming\n",
        "# 4. Which month has the least traffic?\n",
        "# 5. Most booked accomodation type\n",
        "# 6. Check the distribution of adr \n",
        "\n",
        "\n"
      ]
    },
    {
      "cell_type": "code",
      "metadata": {
        "id": "n2Ss_Jt0smvk"
      },
      "source": [
        ""
      ],
      "execution_count": null,
      "outputs": []
    },
    {
      "cell_type": "code",
      "metadata": {
        "id": "lKsbhAS8ohjs"
      },
      "source": [
        "import pandas as pd"
      ],
      "execution_count": 5,
      "outputs": []
    },
    {
      "cell_type": "code",
      "metadata": {
        "id": "iJzQD1IonrjK",
        "outputId": "0a848d56-e328-49c4-da4c-1239645281ee",
        "colab": {
          "base_uri": "https://localhost:8080/"
        }
      },
      "source": [
        "from google.colab import drive\n",
        "drive.mount('/content/drive')"
      ],
      "execution_count": 1,
      "outputs": [
        {
          "output_type": "stream",
          "text": [
            "Mounted at /content/drive\n"
          ],
          "name": "stdout"
        }
      ]
    },
    {
      "cell_type": "code",
      "metadata": {
        "id": "dByMsuzT8Tnw"
      },
      "source": [
        "working_dir = '/content/drive/My Drive/Alma Submission/AlmaBetter/Cohort Aravali/Module 2/Week 1/hotel_bookings.csv'"
      ],
      "execution_count": 2,
      "outputs": []
    },
    {
      "cell_type": "code",
      "metadata": {
        "id": "5UMpTE6EoJE4"
      },
      "source": [
        "df = pd.read_csv(working_dir)"
      ],
      "execution_count": 6,
      "outputs": []
    },
    {
      "cell_type": "code",
      "metadata": {
        "id": "Isk6Q6k8oerj",
        "outputId": "61213b7b-cf04-423f-a029-7709cfeb4bf9",
        "colab": {
          "base_uri": "https://localhost:8080/"
        }
      },
      "source": [
        "df['required_car_parking_spaces'].unique()"
      ],
      "execution_count": 40,
      "outputs": [
        {
          "output_type": "execute_result",
          "data": {
            "text/plain": [
              "array([0, 1, 2, 8, 3])"
            ]
          },
          "metadata": {
            "tags": []
          },
          "execution_count": 40
        }
      ]
    },
    {
      "cell_type": "code",
      "metadata": {
        "id": "O0KMnYIO6k11",
        "outputId": "89b09bc6-d778-4696-cbf5-862b09959251",
        "colab": {
          "base_uri": "https://localhost:8080/"
        }
      },
      "source": [
        "df.dtypes"
      ],
      "execution_count": 38,
      "outputs": [
        {
          "output_type": "execute_result",
          "data": {
            "text/plain": [
              "hotel                              object\n",
              "is_canceled                         int64\n",
              "lead_time                           int64\n",
              "arrival_date_year                   int64\n",
              "arrival_date_month                 object\n",
              "arrival_date_week_number            int64\n",
              "arrival_date_day_of_month           int64\n",
              "stays_in_weekend_nights             int64\n",
              "stays_in_week_nights                int64\n",
              "adults                              int64\n",
              "children                          float64\n",
              "babies                              int64\n",
              "meal                               object\n",
              "country                            object\n",
              "market_segment                     object\n",
              "distribution_channel               object\n",
              "is_repeated_guest                   int64\n",
              "previous_cancellations              int64\n",
              "previous_bookings_not_canceled      int64\n",
              "reserved_room_type                 object\n",
              "assigned_room_type                 object\n",
              "booking_changes                     int64\n",
              "deposit_type                       object\n",
              "agent                             float64\n",
              "company                           float64\n",
              "days_in_waiting_list                int64\n",
              "customer_type                      object\n",
              "adr                               float64\n",
              "required_car_parking_spaces         int64\n",
              "total_of_special_requests           int64\n",
              "reservation_status                 object\n",
              "reservation_status_date            object\n",
              "dtype: object"
            ]
          },
          "metadata": {
            "tags": []
          },
          "execution_count": 38
        }
      ]
    },
    {
      "cell_type": "code",
      "metadata": {
        "id": "wnBn7-uzuSxD",
        "outputId": "a780e4ba-5dc2-4558-8eb7-610b2e06bdd2",
        "colab": {
          "base_uri": "https://localhost:8080/"
        }
      },
      "source": [
        "df['adr']"
      ],
      "execution_count": 20,
      "outputs": [
        {
          "output_type": "execute_result",
          "data": {
            "text/plain": [
              "0           0.00\n",
              "1           0.00\n",
              "2          75.00\n",
              "3          75.00\n",
              "4          98.00\n",
              "           ...  \n",
              "119385     96.14\n",
              "119386    225.43\n",
              "119387    157.71\n",
              "119388    104.40\n",
              "119389    151.20\n",
              "Name: adr, Length: 119390, dtype: float64"
            ]
          },
          "metadata": {
            "tags": []
          },
          "execution_count": 20
        }
      ]
    },
    {
      "cell_type": "code",
      "metadata": {
        "id": "ENKkl0c-r4Fi",
        "outputId": "805df961-8af0-4590-8b1e-2a0197b6289f",
        "colab": {
          "base_uri": "https://localhost:8080/"
        }
      },
      "source": [
        "df.columns"
      ],
      "execution_count": 19,
      "outputs": [
        {
          "output_type": "execute_result",
          "data": {
            "text/plain": [
              "Index(['hotel', 'is_canceled', 'lead_time', 'arrival_date_year',\n",
              "       'arrival_date_month', 'arrival_date_week_number',\n",
              "       'arrival_date_day_of_month', 'stays_in_weekend_nights',\n",
              "       'stays_in_week_nights', 'adults', 'children', 'babies', 'meal',\n",
              "       'country', 'market_segment', 'distribution_channel',\n",
              "       'is_repeated_guest', 'previous_cancellations',\n",
              "       'previous_bookings_not_canceled', 'reserved_room_type',\n",
              "       'assigned_room_type', 'booking_changes', 'deposit_type', 'agent',\n",
              "       'company', 'days_in_waiting_list', 'customer_type', 'adr',\n",
              "       'required_car_parking_spaces', 'total_of_special_requests',\n",
              "       'reservation_status', 'reservation_status_date'],\n",
              "      dtype='object')"
            ]
          },
          "metadata": {
            "tags": []
          },
          "execution_count": 19
        }
      ]
    },
    {
      "cell_type": "code",
      "metadata": {
        "id": "OiI0reElovqW",
        "outputId": "5d107c27-280b-48c3-bf91-29f67b5a7eef",
        "colab": {
          "base_uri": "https://localhost:8080/"
        }
      },
      "source": [
        "df.shape"
      ],
      "execution_count": 9,
      "outputs": [
        {
          "output_type": "execute_result",
          "data": {
            "text/plain": [
              "(119390, 32)"
            ]
          },
          "metadata": {
            "tags": []
          },
          "execution_count": 9
        }
      ]
    },
    {
      "cell_type": "code",
      "metadata": {
        "id": "ynseyOSSoz61",
        "outputId": "00281437-c269-45c3-eed8-16558ca88c7e",
        "colab": {
          "base_uri": "https://localhost:8080/"
        }
      },
      "source": [
        "df['hotel'].unique()"
      ],
      "execution_count": 10,
      "outputs": [
        {
          "output_type": "execute_result",
          "data": {
            "text/plain": [
              "array(['Resort Hotel', 'City Hotel'], dtype=object)"
            ]
          },
          "metadata": {
            "tags": []
          },
          "execution_count": 10
        }
      ]
    },
    {
      "cell_type": "code",
      "metadata": {
        "id": "8USvr6iYpFKb",
        "outputId": "38c08a37-3b7f-4a8b-889c-6f624de84fb6",
        "colab": {
          "base_uri": "https://localhost:8080/"
        }
      },
      "source": [
        "df['is_canceled'].value_counts()"
      ],
      "execution_count": 11,
      "outputs": [
        {
          "output_type": "execute_result",
          "data": {
            "text/plain": [
              "0    75166\n",
              "1    44224\n",
              "Name: is_canceled, dtype: int64"
            ]
          },
          "metadata": {
            "tags": []
          },
          "execution_count": 11
        }
      ]
    },
    {
      "cell_type": "code",
      "metadata": {
        "id": "h50Km7uDpR0s",
        "outputId": "223f3ad4-a93f-459c-e22a-bd21d26d9ad0",
        "colab": {
          "base_uri": "https://localhost:8080/"
        }
      },
      "source": [
        "df['customer_type'].value_counts()"
      ],
      "execution_count": 12,
      "outputs": [
        {
          "output_type": "execute_result",
          "data": {
            "text/plain": [
              "Transient          89613\n",
              "Transient-Party    25124\n",
              "Contract            4076\n",
              "Group                577\n",
              "Name: customer_type, dtype: int64"
            ]
          },
          "metadata": {
            "tags": []
          },
          "execution_count": 12
        }
      ]
    },
    {
      "cell_type": "code",
      "metadata": {
        "id": "FrrulWwipvNF",
        "outputId": "fdc68051-0440-4d14-dca0-cb4191bc3d52",
        "colab": {
          "base_uri": "https://localhost:8080/"
        }
      },
      "source": [
        "df['arrival_date_month'].value_counts()"
      ],
      "execution_count": 13,
      "outputs": [
        {
          "output_type": "execute_result",
          "data": {
            "text/plain": [
              "August       13877\n",
              "July         12661\n",
              "May          11791\n",
              "October      11160\n",
              "April        11089\n",
              "June         10939\n",
              "September    10508\n",
              "March         9794\n",
              "February      8068\n",
              "November      6794\n",
              "December      6780\n",
              "January       5929\n",
              "Name: arrival_date_month, dtype: int64"
            ]
          },
          "metadata": {
            "tags": []
          },
          "execution_count": 13
        }
      ]
    },
    {
      "cell_type": "code",
      "metadata": {
        "id": "i1KfdpFRqHcl",
        "outputId": "6996a560-d69e-4a3e-932f-5f08af505f97",
        "colab": {
          "base_uri": "https://localhost:8080/"
        }
      },
      "source": [
        "for item in df.columns:\n",
        "  print(df[item].value_counts())\n"
      ],
      "execution_count": 17,
      "outputs": [
        {
          "output_type": "stream",
          "text": [
            "City Hotel      79330\n",
            "Resort Hotel    40060\n",
            "Name: hotel, dtype: int64\n",
            "0    75166\n",
            "1    44224\n",
            "Name: is_canceled, dtype: int64\n",
            "0      6345\n",
            "1      3460\n",
            "2      2069\n",
            "3      1816\n",
            "4      1715\n",
            "       ... \n",
            "458       1\n",
            "371       1\n",
            "737       1\n",
            "435       1\n",
            "387       1\n",
            "Name: lead_time, Length: 479, dtype: int64\n",
            "2016    56707\n",
            "2017    40687\n",
            "2015    21996\n",
            "Name: arrival_date_year, dtype: int64\n",
            "August       13877\n",
            "July         12661\n",
            "May          11791\n",
            "October      11160\n",
            "April        11089\n",
            "June         10939\n",
            "September    10508\n",
            "March         9794\n",
            "February      8068\n",
            "November      6794\n",
            "December      6780\n",
            "January       5929\n",
            "Name: arrival_date_month, dtype: int64\n",
            "33    3580\n",
            "30    3087\n",
            "32    3045\n",
            "34    3040\n",
            "18    2926\n",
            "21    2854\n",
            "28    2853\n",
            "17    2805\n",
            "20    2785\n",
            "29    2763\n",
            "42    2756\n",
            "31    2741\n",
            "41    2699\n",
            "15    2689\n",
            "27    2664\n",
            "25    2663\n",
            "38    2661\n",
            "23    2621\n",
            "35    2593\n",
            "39    2581\n",
            "22    2546\n",
            "24    2498\n",
            "13    2416\n",
            "16    2405\n",
            "19    2402\n",
            "40    2397\n",
            "26    2391\n",
            "43    2352\n",
            "44    2272\n",
            "14    2264\n",
            "37    2229\n",
            "8     2216\n",
            "36    2167\n",
            "10    2149\n",
            "9     2117\n",
            "7     2109\n",
            "12    2083\n",
            "11    2070\n",
            "45    1941\n",
            "53    1816\n",
            "49    1782\n",
            "47    1685\n",
            "46    1574\n",
            "6     1508\n",
            "50    1505\n",
            "48    1504\n",
            "4     1487\n",
            "5     1387\n",
            "3     1319\n",
            "2     1218\n",
            "52    1195\n",
            "1     1047\n",
            "51     933\n",
            "Name: arrival_date_week_number, dtype: int64\n",
            "17    4406\n",
            "5     4317\n",
            "15    4196\n",
            "25    4160\n",
            "26    4147\n",
            "9     4096\n",
            "12    4087\n",
            "16    4078\n",
            "2     4055\n",
            "19    4052\n",
            "20    4032\n",
            "18    4002\n",
            "24    3993\n",
            "28    3946\n",
            "8     3921\n",
            "3     3855\n",
            "30    3853\n",
            "6     3833\n",
            "14    3819\n",
            "27    3802\n",
            "21    3767\n",
            "4     3763\n",
            "13    3745\n",
            "7     3665\n",
            "1     3626\n",
            "23    3616\n",
            "11    3599\n",
            "22    3596\n",
            "29    3580\n",
            "10    3575\n",
            "31    2208\n",
            "Name: arrival_date_day_of_month, dtype: int64\n",
            "0     51998\n",
            "2     33308\n",
            "1     30626\n",
            "4      1855\n",
            "3      1259\n",
            "6       153\n",
            "5        79\n",
            "8        60\n",
            "7        19\n",
            "9        11\n",
            "10        7\n",
            "12        5\n",
            "13        3\n",
            "16        3\n",
            "14        2\n",
            "18        1\n",
            "19        1\n",
            "Name: stays_in_weekend_nights, dtype: int64\n",
            "2     33684\n",
            "1     30310\n",
            "3     22258\n",
            "5     11077\n",
            "4      9563\n",
            "0      7645\n",
            "6      1499\n",
            "10     1036\n",
            "7      1029\n",
            "8       656\n",
            "9       231\n",
            "15       85\n",
            "11       56\n",
            "19       44\n",
            "12       42\n",
            "20       41\n",
            "14       35\n",
            "13       27\n",
            "16       16\n",
            "21       15\n",
            "22        7\n",
            "18        6\n",
            "25        6\n",
            "30        5\n",
            "17        4\n",
            "24        3\n",
            "40        2\n",
            "42        1\n",
            "26        1\n",
            "32        1\n",
            "33        1\n",
            "34        1\n",
            "35        1\n",
            "41        1\n",
            "50        1\n",
            "Name: stays_in_week_nights, dtype: int64\n",
            "2     89680\n",
            "1     23027\n",
            "3      6202\n",
            "0       403\n",
            "4        62\n",
            "26        5\n",
            "27        2\n",
            "20        2\n",
            "5         2\n",
            "55        1\n",
            "50        1\n",
            "40        1\n",
            "10        1\n",
            "6         1\n",
            "Name: adults, dtype: int64\n",
            "0.0     110796\n",
            "1.0       4861\n",
            "2.0       3652\n",
            "3.0         76\n",
            "10.0         1\n",
            "Name: children, dtype: int64\n",
            "0     118473\n",
            "1        900\n",
            "2         15\n",
            "10         1\n",
            "9          1\n",
            "Name: babies, dtype: int64\n",
            "BB           92310\n",
            "HB           14463\n",
            "SC           10650\n",
            "Undefined     1169\n",
            "FB             798\n",
            "Name: meal, dtype: int64\n",
            "PRT    48590\n",
            "GBR    12129\n",
            "FRA    10415\n",
            "ESP     8568\n",
            "DEU     7287\n",
            "       ...  \n",
            "SMR        1\n",
            "LCA        1\n",
            "GUY        1\n",
            "MRT        1\n",
            "HND        1\n",
            "Name: country, Length: 177, dtype: int64\n",
            "Online TA        56477\n",
            "Offline TA/TO    24219\n",
            "Groups           19811\n",
            "Direct           12606\n",
            "Corporate         5295\n",
            "Complementary      743\n",
            "Aviation           237\n",
            "Undefined            2\n",
            "Name: market_segment, dtype: int64\n",
            "TA/TO        97870\n",
            "Direct       14645\n",
            "Corporate     6677\n",
            "GDS            193\n",
            "Undefined        5\n",
            "Name: distribution_channel, dtype: int64\n",
            "0    115580\n",
            "1      3810\n",
            "Name: is_repeated_guest, dtype: int64\n",
            "0     112906\n",
            "1       6051\n",
            "2        116\n",
            "3         65\n",
            "24        48\n",
            "11        35\n",
            "4         31\n",
            "26        26\n",
            "25        25\n",
            "6         22\n",
            "19        19\n",
            "5         19\n",
            "14        14\n",
            "13        12\n",
            "21         1\n",
            "Name: previous_cancellations, dtype: int64\n",
            "0     115770\n",
            "1       1542\n",
            "2        580\n",
            "3        333\n",
            "4        229\n",
            "       ...  \n",
            "47         1\n",
            "36         1\n",
            "49         1\n",
            "50         1\n",
            "63         1\n",
            "Name: previous_bookings_not_canceled, Length: 73, dtype: int64\n",
            "A    85994\n",
            "D    19201\n",
            "E     6535\n",
            "F     2897\n",
            "G     2094\n",
            "B     1118\n",
            "C      932\n",
            "H      601\n",
            "P       12\n",
            "L        6\n",
            "Name: reserved_room_type, dtype: int64\n",
            "A    74053\n",
            "D    25322\n",
            "E     7806\n",
            "F     3751\n",
            "G     2553\n",
            "C     2375\n",
            "B     2163\n",
            "H      712\n",
            "I      363\n",
            "K      279\n",
            "P       12\n",
            "L        1\n",
            "Name: assigned_room_type, dtype: int64\n",
            "0     101314\n",
            "1      12701\n",
            "2       3805\n",
            "3        927\n",
            "4        376\n",
            "5        118\n",
            "6         63\n",
            "7         31\n",
            "8         17\n",
            "9          8\n",
            "10         6\n",
            "13         5\n",
            "14         5\n",
            "15         3\n",
            "11         2\n",
            "12         2\n",
            "16         2\n",
            "17         2\n",
            "20         1\n",
            "18         1\n",
            "21         1\n",
            "Name: booking_changes, dtype: int64\n",
            "No Deposit    104641\n",
            "Non Refund     14587\n",
            "Refundable       162\n",
            "Name: deposit_type, dtype: int64\n",
            "9.0      31961\n",
            "240.0    13922\n",
            "1.0       7191\n",
            "14.0      3640\n",
            "7.0       3539\n",
            "         ...  \n",
            "213.0        1\n",
            "433.0        1\n",
            "197.0        1\n",
            "367.0        1\n",
            "337.0        1\n",
            "Name: agent, Length: 333, dtype: int64\n",
            "40.0     927\n",
            "223.0    784\n",
            "67.0     267\n",
            "45.0     250\n",
            "153.0    215\n",
            "        ... \n",
            "229.0      1\n",
            "213.0      1\n",
            "416.0      1\n",
            "320.0      1\n",
            "461.0      1\n",
            "Name: company, Length: 352, dtype: int64\n",
            "0      115692\n",
            "39        227\n",
            "58        164\n",
            "44        141\n",
            "31        127\n",
            "        ...  \n",
            "175         1\n",
            "117         1\n",
            "89          1\n",
            "92          1\n",
            "183         1\n",
            "Name: days_in_waiting_list, Length: 128, dtype: int64\n",
            "Transient          89613\n",
            "Transient-Party    25124\n",
            "Contract            4076\n",
            "Group                577\n",
            "Name: customer_type, dtype: int64\n",
            "62.00     3754\n",
            "75.00     2715\n",
            "90.00     2473\n",
            "65.00     2418\n",
            "0.00      1959\n",
            "          ... \n",
            "202.74       1\n",
            "87.64        1\n",
            "69.83        1\n",
            "160.83       1\n",
            "35.64        1\n",
            "Name: adr, Length: 8879, dtype: int64\n",
            "0    111974\n",
            "1      7383\n",
            "2        28\n",
            "3         3\n",
            "8         2\n",
            "Name: required_car_parking_spaces, dtype: int64\n",
            "0    70318\n",
            "1    33226\n",
            "2    12969\n",
            "3     2497\n",
            "4      340\n",
            "5       40\n",
            "Name: total_of_special_requests, dtype: int64\n",
            "Check-Out    75166\n",
            "Canceled     43017\n",
            "No-Show       1207\n",
            "Name: reservation_status, dtype: int64\n",
            "2015-10-21    1461\n",
            "2015-07-06     805\n",
            "2016-11-25     790\n",
            "2015-01-01     763\n",
            "2016-01-18     625\n",
            "              ... \n",
            "2015-02-09       1\n",
            "2015-02-24       1\n",
            "2015-03-18       1\n",
            "2015-04-21       1\n",
            "2015-04-07       1\n",
            "Name: reservation_status_date, Length: 926, dtype: int64\n"
          ],
          "name": "stdout"
        }
      ]
    },
    {
      "cell_type": "code",
      "metadata": {
        "id": "yRLyeGX2q-fy",
        "outputId": "d7574951-9eb6-40b2-b149-dd1a8e00b26b",
        "colab": {
          "base_uri": "https://localhost:8080/"
        }
      },
      "source": [
        "df.info()"
      ],
      "execution_count": 22,
      "outputs": [
        {
          "output_type": "stream",
          "text": [
            "<class 'pandas.core.frame.DataFrame'>\n",
            "RangeIndex: 119390 entries, 0 to 119389\n",
            "Data columns (total 32 columns):\n",
            " #   Column                          Non-Null Count   Dtype  \n",
            "---  ------                          --------------   -----  \n",
            " 0   hotel                           119390 non-null  object \n",
            " 1   is_canceled                     119390 non-null  int64  \n",
            " 2   lead_time                       119390 non-null  int64  \n",
            " 3   arrival_date_year               119390 non-null  int64  \n",
            " 4   arrival_date_month              119390 non-null  object \n",
            " 5   arrival_date_week_number        119390 non-null  int64  \n",
            " 6   arrival_date_day_of_month       119390 non-null  int64  \n",
            " 7   stays_in_weekend_nights         119390 non-null  int64  \n",
            " 8   stays_in_week_nights            119390 non-null  int64  \n",
            " 9   adults                          119390 non-null  int64  \n",
            " 10  children                        119386 non-null  float64\n",
            " 11  babies                          119390 non-null  int64  \n",
            " 12  meal                            119390 non-null  object \n",
            " 13  country                         118902 non-null  object \n",
            " 14  market_segment                  119390 non-null  object \n",
            " 15  distribution_channel            119390 non-null  object \n",
            " 16  is_repeated_guest               119390 non-null  int64  \n",
            " 17  previous_cancellations          119390 non-null  int64  \n",
            " 18  previous_bookings_not_canceled  119390 non-null  int64  \n",
            " 19  reserved_room_type              119390 non-null  object \n",
            " 20  assigned_room_type              119390 non-null  object \n",
            " 21  booking_changes                 119390 non-null  int64  \n",
            " 22  deposit_type                    119390 non-null  object \n",
            " 23  agent                           103050 non-null  float64\n",
            " 24  company                         6797 non-null    float64\n",
            " 25  days_in_waiting_list            119390 non-null  int64  \n",
            " 26  customer_type                   119390 non-null  object \n",
            " 27  adr                             119390 non-null  float64\n",
            " 28  required_car_parking_spaces     119390 non-null  int64  \n",
            " 29  total_of_special_requests       119390 non-null  int64  \n",
            " 30  reservation_status              119390 non-null  object \n",
            " 31  reservation_status_date         119390 non-null  object \n",
            "dtypes: float64(4), int64(16), object(12)\n",
            "memory usage: 29.1+ MB\n"
          ],
          "name": "stdout"
        }
      ]
    },
    {
      "cell_type": "code",
      "metadata": {
        "id": "vF7IyLwivmQk",
        "outputId": "c2e0d9c6-655e-4115-d18f-bbdca6bf4b3d",
        "colab": {
          "base_uri": "https://localhost:8080/"
        }
      },
      "source": [
        "df['company'].isnull().sum()"
      ],
      "execution_count": 25,
      "outputs": [
        {
          "output_type": "execute_result",
          "data": {
            "text/plain": [
              "112593"
            ]
          },
          "metadata": {
            "tags": []
          },
          "execution_count": 25
        }
      ]
    },
    {
      "cell_type": "code",
      "metadata": {
        "id": "sQSKyoi-v08k",
        "outputId": "3f353d47-17dd-483d-8f89-ec265532a8c6",
        "colab": {
          "base_uri": "https://localhost:8080/"
        }
      },
      "source": [
        "df[df['is_canceled']==1]['reservation_status'].value_counts()"
      ],
      "execution_count": 31,
      "outputs": [
        {
          "output_type": "execute_result",
          "data": {
            "text/plain": [
              "Canceled    43017\n",
              "No-Show      1207\n",
              "Name: reservation_status, dtype: int64"
            ]
          },
          "metadata": {
            "tags": []
          },
          "execution_count": 31
        }
      ]
    },
    {
      "cell_type": "code",
      "metadata": {
        "id": "tYn1omkxw7Wb",
        "outputId": "879be40e-64c4-4ae1-e829-b06620b383a2",
        "colab": {
          "base_uri": "https://localhost:8080/"
        }
      },
      "source": [
        "df['babies'].value_counts()"
      ],
      "execution_count": 29,
      "outputs": [
        {
          "output_type": "execute_result",
          "data": {
            "text/plain": [
              "0     118473\n",
              "1        900\n",
              "2         15\n",
              "10         1\n",
              "9          1\n",
              "Name: babies, dtype: int64"
            ]
          },
          "metadata": {
            "tags": []
          },
          "execution_count": 29
        }
      ]
    },
    {
      "cell_type": "code",
      "metadata": {
        "id": "I8xV0nLSx82j",
        "outputId": "e139c869-a065-4e33-fcb8-7e1bc376e50e",
        "colab": {
          "base_uri": "https://localhost:8080/"
        }
      },
      "source": [
        "df['customer_type'].unique()"
      ],
      "execution_count": 32,
      "outputs": [
        {
          "output_type": "execute_result",
          "data": {
            "text/plain": [
              "array(['Transient', 'Contract', 'Transient-Party', 'Group'], dtype=object)"
            ]
          },
          "metadata": {
            "tags": []
          },
          "execution_count": 32
        }
      ]
    },
    {
      "cell_type": "code",
      "metadata": {
        "id": "IMMwg4xQzD5m",
        "outputId": "95bdffaa-c4ea-46dd-ae06-e4a7f72a2e27",
        "colab": {
          "base_uri": "https://localhost:8080/"
        }
      },
      "source": [
        "df['country'].value_counts()"
      ],
      "execution_count": 34,
      "outputs": [
        {
          "output_type": "execute_result",
          "data": {
            "text/plain": [
              "PRT    48590\n",
              "GBR    12129\n",
              "FRA    10415\n",
              "ESP     8568\n",
              "DEU     7287\n",
              "       ...  \n",
              "SMR        1\n",
              "LCA        1\n",
              "GUY        1\n",
              "MRT        1\n",
              "HND        1\n",
              "Name: country, Length: 177, dtype: int64"
            ]
          },
          "metadata": {
            "tags": []
          },
          "execution_count": 34
        }
      ]
    },
    {
      "cell_type": "code",
      "metadata": {
        "id": "IIp_WE9-zVfL",
        "outputId": "ed96e5bf-4899-429a-9264-4582deb6ea05",
        "colab": {
          "base_uri": "https://localhost:8080/"
        }
      },
      "source": [
        "df['market_segment'].value_counts()"
      ],
      "execution_count": 35,
      "outputs": [
        {
          "output_type": "execute_result",
          "data": {
            "text/plain": [
              "Online TA        56477\n",
              "Offline TA/TO    24219\n",
              "Groups           19811\n",
              "Direct           12606\n",
              "Corporate         5295\n",
              "Complementary      743\n",
              "Aviation           237\n",
              "Undefined            2\n",
              "Name: market_segment, dtype: int64"
            ]
          },
          "metadata": {
            "tags": []
          },
          "execution_count": 35
        }
      ]
    },
    {
      "cell_type": "code",
      "metadata": {
        "id": "Rc0dizj71axL"
      },
      "source": [
        ""
      ],
      "execution_count": null,
      "outputs": []
    }
  ]
}